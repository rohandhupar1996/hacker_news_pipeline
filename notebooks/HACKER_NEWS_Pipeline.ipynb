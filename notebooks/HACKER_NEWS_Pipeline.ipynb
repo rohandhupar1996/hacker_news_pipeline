{
 "cells": [
  {
   "cell_type": "markdown",
   "metadata": {
    "collapsed": true
   },
   "source": [
    "#### So we have json file filled with 2014 hacker news post \n",
    "#### It contains stories as single keys \n",
    "#### we will be dealing with following keys \n",
    "created_at: A timestamp of the story's creation time.\n",
    "\n",
    "created_at_i: A unix epoch timestamp.\n",
    "\n",
    "url: The URL of the story link.\n",
    "\n",
    "objectID: The ID of the story.\n",
    "\n",
    "author: The story's author (username on HN).\n",
    "\n",
    "points: The number of upvotes the story had.\n",
    "\n",
    "title: The headline of the post.\n",
    "\n",
    "num_comments: The number of a comments a post has."
   ]
  },
  {
   "cell_type": "markdown",
   "metadata": {},
   "source": [
    "#### Using this data-set \n",
    "#### we will be runining sequences basic of NLP task using our Pipeline Class.\n"
   ]
  },
  {
   "cell_type": "code",
   "execution_count": 1,
   "metadata": {
    "collapsed": false
   },
   "outputs": [],
   "source": [
    "from datetime import datetime\n",
    "import json\n",
    "import io\n",
    "import string\n",
    "import csv\n",
    "from pipeline import build_csv\n",
    "from pipeline import Pipeline\n",
    "from stop_words import stop_words"
   ]
  },
  {
   "cell_type": "code",
   "execution_count": 2,
   "metadata": {
    "collapsed": true
   },
   "outputs": [],
   "source": [
    "pipeline=Pipeline()"
   ]
  },
  {
   "cell_type": "markdown",
   "metadata": {},
   "source": [
    "#### loading of json file into python \n",
    "#### create pipeline.task() with no args \n",
    "#### call the the function file_to_json() loads the file and return stories "
   ]
  },
  {
   "cell_type": "code",
   "execution_count": 3,
   "metadata": {
    "collapsed": false
   },
   "outputs": [],
   "source": [
    "@pipeline.task()\n",
    "def file_to_json():\n",
    "    with open('hn_stories_2014.json', 'r') as f:\n",
    "        data = json.load(f)\n",
    "        stories = data['stories']\n",
    "    return stories\n",
    "\n",
    "#### we need to filter out most popular stories every year \n",
    "\n",
    "@pipeline.task(depends_on=file_to_json)\n",
    "def filter_stories(stories):\n",
    "    def is_popular(story): #is_popular will return boolean value\n",
    "        \n",
    "        return (story[\"points\"]>50 and story[\"num_comments\"]>1 \n",
    "                and not story[\"title\"].startswith(\"ASK HN\"))\n",
    "        \n",
    "    return (story for story in stories if is_popular(story))\n",
    "\n",
    "#### now dict to csv conversion is necessary\n",
    "#### The purpose of translating the dictionaries to a CSV is that \n",
    "#### we want to have a consistent data format when running the later \n",
    "#### summarizations. By keeping consistent data formats, \n",
    "#### each of your pipeline tasks will be adaptable with future task \n",
    "#### requirements.\n",
    "\n",
    "@pipeline.task(depends_on=filter_stories)\n",
    "def json_to_csv(stories):\n",
    "    lines=[]\n",
    "    for story in stories:\n",
    "        lines.append(\n",
    "            (story['objectID'], datetime.strptime(story['created_at'], \"%Y-%m-%dT%H:%M:%SZ\"), story['url'], story['points'], story['title'])\n",
    "        )\n",
    "    return build_csv(lines,header=['objectID','created_at','url',\n",
    "                                   'points','title'], file=io.StringIO())\n",
    "\n",
    "##### Once we have extracted the titles of each popular post, \n",
    "#### we can then run the next word frequency task.\n",
    "@pipeline.task(depends_on=json_to_csv)\n",
    "def extract_titles(csv_file):\n",
    "    reader = csv.reader(csv_file)\n",
    "    header = next(reader)\n",
    "    idx = header.index('title')\n",
    "    \n",
    "    return (line[idx] for line in reader)\n",
    "\n",
    "@pipeline.task(depends_on=extract_titles)\n",
    "def clean_titles(titles):\n",
    "    for title in titles:\n",
    "        title = title.lower()\n",
    "        title = ''.join(c for c in title if c not in string.punctuation)\n",
    "        yield title\n",
    "        \n",
    "@pipeline.task(depends_on=clean_titles)\n",
    "def build_keyword_dictionary(titles):\n",
    "    word_freq={}\n",
    "    for title in titles:\n",
    "        for word in title.split(\" \"):\n",
    "            if word not in stop_words:\n",
    "                if word not in word_freq:\n",
    "                    word_freq[word]=1\n",
    "                word_freq[word]+=1\n",
    "    return word_freq\n",
    "\n",
    "@pipeline.task(depends_on=build_keyword_dictionary)\n",
    "def top_words(keyword_dictionary):\n",
    "    top_values=sorted(keyword_dictionary.items() ,key=lambda x:x[1],reverse=True)\n",
    "    return top_values[:100]\n",
    "                "
   ]
  },
  {
   "cell_type": "code",
   "execution_count": 5,
   "metadata": {
    "collapsed": false
   },
   "outputs": [
    {
     "ename": "NameError",
     "evalue": "name 'top_values' is not defined",
     "output_type": "error",
     "traceback": [
      "\u001b[1;31m\u001b[0m",
      "\u001b[1;31mNameError\u001b[0mTraceback (most recent call last)",
      "\u001b[1;32m<ipython-input-5-c2372ad81b94>\u001b[0m in \u001b[0;36m<module>\u001b[1;34m()\u001b[0m\n\u001b[0;32m      1\u001b[0m \u001b[1;31m# ran = pipeline.run()\u001b[0m\u001b[1;33m\u001b[0m\u001b[1;33m\u001b[0m\u001b[0m\n\u001b[1;32m----> 2\u001b[1;33m \u001b[0mprint\u001b[0m\u001b[1;33m(\u001b[0m\u001b[0mran\u001b[0m\u001b[1;33m[\u001b[0m\u001b[0mtop_values\u001b[0m\u001b[1;33m]\u001b[0m\u001b[1;33m)\u001b[0m\u001b[1;33m\u001b[0m\u001b[0m\n\u001b[0m",
      "\u001b[1;31mNameError\u001b[0m: name 'top_values' is not defined"
     ]
    }
   ],
   "source": [
    "# ran = pipeline.run()\n",
    "print(ran[top_values])"
   ]
  },
  {
   "cell_type": "code",
   "execution_count": null,
   "metadata": {
    "collapsed": true
   },
   "outputs": [],
   "source": []
  }
 ],
 "metadata": {
  "anaconda-cloud": {},
  "kernelspec": {
   "display_name": "Python 3",
   "language": "python",
   "name": "python3"
  },
  "language_info": {
   "codemirror_mode": {
    "name": "ipython",
    "version": 3
   },
   "file_extension": ".py",
   "mimetype": "text/x-python",
   "name": "python",
   "nbconvert_exporter": "python",
   "pygments_lexer": "ipython3",
   "version": "3.4.3"
  }
 },
 "nbformat": 4,
 "nbformat_minor": 1
}
